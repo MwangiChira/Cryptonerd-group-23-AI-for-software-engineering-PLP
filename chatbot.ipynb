{
 "cells": [
  {
   "cell_type": "code",
   "execution_count": 1,
   "id": "2a866ae5-3075-4c8c-91f8-0ff726bc7fb5",
   "metadata": {},
   "outputs": [],
   "source": [
    "import pandas as pd\n",
    "import numpy as np\n"
   ]
  },
  {
   "cell_type": "code",
   "execution_count": 2,
   "id": "9de967b3-5a0e-4d8f-b9d6-a86253d2fedd",
   "metadata": {},
   "outputs": [],
   "source": [
    "crypto_db = {  \n",
    "    \"Bitcoin\": {  \n",
    "        \"price_trend\": \"rising\",  \n",
    "        \"market_cap\": \"high\",  \n",
    "        \"energy_use\": \"high\",  \n",
    "        \"sustainability_score\": 3/10  \n",
    "    },  \n",
    "    \"Ethereum\": {  \n",
    "        \"price_trend\": \"stable\",  \n",
    "        \"market_cap\": \"high\",  \n",
    "        \"energy_use\": \"medium\",  \n",
    "        \"sustainability_score\": 6/10  \n",
    "    },  \n",
    "    \"Cardano\": {  \n",
    "        \"price_trend\": \"rising\",  \n",
    "        \"market_cap\": \"medium\",  \n",
    "        \"energy_use\": \"low\",  \n",
    "        \"sustainability_score\": 8/10  \n",
    "    }  \n",
    "}\n"
   ]
  },
  {
   "cell_type": "code",
   "execution_count": 3,
   "id": "a492e3dd-7ea8-485a-b8e5-32f8a97d8c28",
   "metadata": {},
   "outputs": [],
   "source": [
    "def chatbot_response(user_query):\n",
    "    user_query = user_query.lower()\n",
    "    \n",
    "    if \"trending up\" in user_query:\n",
    "        trending_coins = [coin for coin in crypto_db if crypto_db[coin][\"price_trend\"] == \"rising\"]\n",
    "        if trending_coins:\n",
    "            recommend = trending_coins[0]  # Just take the first one for simplicity\n",
    "            return f\"{recommend} is trending up! 🚀\"\n",
    "        else:\n",
    "            return \"No cryptocurrencies are currently trending up. Keep an eye out!\"\n",
    "\n",
    "    elif \"sustainable\" in user_query:\n",
    "        recommend = max(crypto_db, key=lambda x: crypto_db[x][\"sustainability_score\"])\n",
    "        return f\"Invest in {recommend}! 🌱 It’s eco-friendly and has long-term potential!\"\n",
    "\n",
    "    elif \"buy for long-term growth\" in user_query:\n",
    "        profitable_coins = [coin for coin in crypto_db if crypto_db[coin][\"price_trend\"] == \"rising\" and crypto_db[coin][\"market_cap\"] == \"high\"]\n",
    "        if profitable_coins:\n",
    "            recommend = profitable_coins[0]  # Just take the first one for simplicity\n",
    "            return f\"{recommend} is a great choice for long-term growth! 🚀\"\n",
    "        else:\n",
    "            return \"I couldn't find a suitable option for long-term growth. Consider researching more!\"\n",
    "\n",
    "    else:\n",
    "        return \"I’m here to help you with cryptocurrency advice! Ask me about specific coins.\"\n"
   ]
  },
  {
   "cell_type": "code",
   "execution_count": 4,
   "id": "12f91342-3544-4036-81f0-4a4de4b57da6",
   "metadata": {},
   "outputs": [],
   "source": [
    "def get_advice():\n",
    "    # Check for profitable coins\n",
    "    profitable_coins = [coin for coin in crypto_db if crypto_db[coin][\"price_trend\"] == \"rising\" and crypto_db[coin][\"market_cap\"] == \"high\"]\n",
    "    \n",
    "    # Check for sustainable coins\n",
    "    sustainable_coins = [coin for coin in crypto_db if crypto_db[coin][\"energy_use\"] == \"low\" and crypto_db[coin][\"sustainability_score\"] > 7/10]\n",
    "    \n",
    "    return profitable_coins, sustainable_coins\n"
   ]
  },
  {
   "cell_type": "code",
   "execution_count": 6,
   "id": "47b2a42a-b28f-40b5-9011-fc419252fa16",
   "metadata": {},
   "outputs": [
    {
     "name": "stdout",
     "output_type": "stream",
     "text": [
      "You: Which crypto is trending up?\n",
      "CryptoBestie: Bitcoin is trending up! 🚀\n",
      "\n"
     ]
    }
   ],
   "source": [
    "def test_chatbot():\n",
    "    test_queries = [\n",
    "        \"Which crypto is trending up?\",\n",
    "    ]\n",
    "    \n",
    "    for query in test_queries:\n",
    "        response = chatbot_response(query)\n",
    "        print(f\"You: {query}\")\n",
    "        print(f\"CryptoBestie: {response}\\n\")\n",
    "\n",
    "# Run the test\n",
    "test_chatbot()\n",
    "\n"
   ]
  },
  {
   "cell_type": "code",
   "execution_count": 9,
   "id": "81153d9b-06b9-46a5-b8f7-99e0964a444d",
   "metadata": {},
   "outputs": [
    {
     "name": "stdout",
     "output_type": "stream",
     "text": [
      "You: Tell me about Bitcoin.\n",
      "CryptoBestie: I’m here to help you with cryptocurrency advice! Ask me about specific coins.\n",
      "\n"
     ]
    }
   ],
   "source": [
    "def test_chatbot():\n",
    "    test_queries = [\n",
    "        \"Tell me about Bitcoin.\"\n",
    "    ]\n",
    "    \n",
    "    for query in test_queries:\n",
    "        response = chatbot_response(query)\n",
    "        print(f\"You: {query}\")\n",
    "        print(f\"CryptoBestie: {response}\\n\")\n",
    "\n",
    "# Run the test\n",
    "test_chatbot()\n"
   ]
  },
  {
   "cell_type": "code",
   "execution_count": 10,
   "id": "7df003ce-ac71-48c7-9fe6-043aa5e9a5bf",
   "metadata": {},
   "outputs": [
    {
     "name": "stdout",
     "output_type": "stream",
     "text": [
      "You: What’s the most sustainable coin?\n",
      "CryptoBestie: Invest in Cardano! 🌱 It’s eco-friendly and has long-term potential!\n",
      "\n"
     ]
    }
   ],
   "source": [
    "def test_chatbot():\n",
    "    test_queries = [\n",
    "      \n",
    "        \"What’s the most sustainable coin?\",\n",
    "    ]\n",
    "    \n",
    "    for query in test_queries:\n",
    "        response = chatbot_response(query)\n",
    "        print(f\"You: {query}\")\n",
    "        print(f\"CryptoBestie: {response}\\n\")\n",
    "\n",
    "# Run the test\n",
    "test_chatbot()\n"
   ]
  },
  {
   "cell_type": "code",
   "execution_count": null,
   "id": "9cbbf4c2-ca3d-4e8d-aa2d-da71b7770fb6",
   "metadata": {},
   "outputs": [],
   "source": []
  },
  {
   "cell_type": "code",
   "execution_count": null,
   "id": "ff542908-829d-485f-9764-f76d0c4310bd",
   "metadata": {},
   "outputs": [],
   "source": []
  },
  {
   "cell_type": "code",
   "execution_count": null,
   "id": "f48fb4f9-997b-48db-9316-fcfc6e7fd4c1",
   "metadata": {},
   "outputs": [],
   "source": []
  },
  {
   "cell_type": "code",
   "execution_count": null,
   "id": "7280e775-2005-476a-aa8b-a6ac1d3b0b3c",
   "metadata": {},
   "outputs": [],
   "source": []
  }
 ],
 "metadata": {
  "kernelspec": {
   "display_name": "anaconda-panel-2023.05-py310",
   "language": "python",
   "name": "conda-env-anaconda-panel-2023.05-py310-py"
  },
  "language_info": {
   "codemirror_mode": {
    "name": "ipython",
    "version": 3
   },
   "file_extension": ".py",
   "mimetype": "text/x-python",
   "name": "python",
   "nbconvert_exporter": "python",
   "pygments_lexer": "ipython3",
   "version": "3.11.5"
  }
 },
 "nbformat": 4,
 "nbformat_minor": 5
}
